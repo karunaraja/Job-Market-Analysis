{
  "nbformat": 4,
  "nbformat_minor": 0,
  "metadata": {
    "colab": {
      "provenance": []
    },
    "kernelspec": {
      "name": "python3",
      "display_name": "Python 3"
    },
    "language_info": {
      "name": "python"
    }
  },
  "cells": [
    {
      "cell_type": "code",
      "execution_count": null,
      "metadata": {
        "id": "8nvi8IonhTTg"
      },
      "outputs": [],
      "source": [
        "import pandas as pd\n",
        "import numpy as np\n",
        "import matplotlib.pyplot as plt\n",
        "import seaborn as sns\n"
      ]
    },
    {
      "cell_type": "code",
      "metadata": {
        "colab": {
          "base_uri": "https://localhost:8080/"
        },
        "id": "a3697f45",
        "outputId": "7cf2af79-2bea-4865-cda9-8ff2bec53991"
      },
      "source": [
        "!pip install mysql-connector-python"
      ],
      "execution_count": null,
      "outputs": [
        {
          "output_type": "stream",
          "name": "stdout",
          "text": [
            "Collecting mysql-connector-python\n",
            "  Downloading mysql_connector_python-9.4.0-cp312-cp312-manylinux_2_28_x86_64.whl.metadata (7.5 kB)\n",
            "Downloading mysql_connector_python-9.4.0-cp312-cp312-manylinux_2_28_x86_64.whl (33.9 MB)\n",
            "\u001b[2K   \u001b[90m━━━━━━━━━━━━━━━━━━━━━━━━━━━━━━━━━━━━━━━━\u001b[0m \u001b[32m33.9/33.9 MB\u001b[0m \u001b[31m55.5 MB/s\u001b[0m eta \u001b[36m0:00:00\u001b[0m\n",
            "\u001b[?25hInstalling collected packages: mysql-connector-python\n",
            "Successfully installed mysql-connector-python-9.4.0\n"
          ]
        }
      ]
    },
    {
      "cell_type": "code",
      "metadata": {
        "id": "599230d2"
      },
      "source": [
        "import mysql.connector\n",
        "conn=mysql.connector.connect(\n",
        "    host='18.136.157.135',\n",
        "    user='dm_team8',\n",
        "    password='DM!$!Team!82@04!23&',\n",
        "    database='project_job_market_analysis'\n",
        ")"
      ],
      "execution_count": null,
      "outputs": []
    },
    {
      "cell_type": "code",
      "source": [
        "query=\"SELECT * FROM Market\"\n",
        "df=pd.read_sql(query,conn)\n",
        "conn.close()"
      ],
      "metadata": {
        "colab": {
          "base_uri": "https://localhost:8080/"
        },
        "id": "EJ_psnICkW_-",
        "outputId": "20f7c1c2-be0f-4add-c557-8dd3003b015e"
      },
      "execution_count": null,
      "outputs": [
        {
          "output_type": "stream",
          "name": "stderr",
          "text": [
            "/tmp/ipython-input-3858229869.py:2: UserWarning: pandas only supports SQLAlchemy connectable (engine/connection) or database string URI or sqlite3 DBAPI2 connection. Other DBAPI2 objects are not tested. Please consider using SQLAlchemy.\n",
            "  df=pd.read_sql(query,conn)\n"
          ]
        }
      ]
    },
    {
      "cell_type": "code",
      "source": [
        "print(df.shape)\n",
        "print(df.info())\n",
        "print(df.head())\n",
        "print(df.isnull().sum)"
      ],
      "metadata": {
        "colab": {
          "base_uri": "https://localhost:8080/"
        },
        "id": "WDz5nTBHkyLp",
        "outputId": "28f5851d-1f9c-4013-d32d-8070845b61e9"
      },
      "execution_count": null,
      "outputs": [
        {
          "output_type": "stream",
          "name": "stdout",
          "text": [
            "(742, 42)\n",
            "<class 'pandas.core.frame.DataFrame'>\n",
            "RangeIndex: 742 entries, 0 to 741\n",
            "Data columns (total 42 columns):\n",
            " #   Column              Non-Null Count  Dtype  \n",
            "---  ------              --------------  -----  \n",
            " 0   ID                  742 non-null    int64  \n",
            " 1   Job_Title           742 non-null    object \n",
            " 2   Salary_Estimate     742 non-null    object \n",
            " 3   FIELD4              0 non-null      object \n",
            " 4   Rating              742 non-null    float64\n",
            " 5   Company_Name        742 non-null    object \n",
            " 6   Location            742 non-null    object \n",
            " 7   Headquarters        742 non-null    object \n",
            " 8   Size                742 non-null    object \n",
            " 9   Founded             742 non-null    int64  \n",
            " 10  Type_of_ownership   742 non-null    object \n",
            " 11  Industry            742 non-null    object \n",
            " 12  Sector              742 non-null    object \n",
            " 13  Revenue             742 non-null    object \n",
            " 14  Competitors         742 non-null    object \n",
            " 15  Hourly              742 non-null    int64  \n",
            " 16  Employer_provided   742 non-null    int64  \n",
            " 17  Lower_Salary        742 non-null    int64  \n",
            " 18  Upper_Salary        742 non-null    int64  \n",
            " 19  Avg_SalaryK         742 non-null    float64\n",
            " 20  company_txt         742 non-null    object \n",
            " 21  Job_Location        742 non-null    object \n",
            " 22  Age                 742 non-null    int64  \n",
            " 23  Python              742 non-null    int64  \n",
            " 24  spark               742 non-null    int64  \n",
            " 25  aws                 742 non-null    int64  \n",
            " 26  excel               742 non-null    int64  \n",
            " 27  sql_                742 non-null    int64  \n",
            " 28  sas                 742 non-null    int64  \n",
            " 29  keras               742 non-null    int64  \n",
            " 30  pytorch             742 non-null    int64  \n",
            " 31  scikit              742 non-null    int64  \n",
            " 32  tensor              742 non-null    int64  \n",
            " 33  hadoop              742 non-null    int64  \n",
            " 34  tableau             742 non-null    int64  \n",
            " 35  bi                  742 non-null    int64  \n",
            " 36  flink               742 non-null    int64  \n",
            " 37  mongo               742 non-null    int64  \n",
            " 38  google_an           742 non-null    int64  \n",
            " 39  job_title_sim       742 non-null    object \n",
            " 40  seniority_by_title  742 non-null    object \n",
            " 41  Degree              742 non-null    object \n",
            "dtypes: float64(2), int64(23), object(17)\n",
            "memory usage: 243.6+ KB\n",
            "None\n",
            "   ID                  Job_Title              Salary_Estimate FIELD4  Rating  \\\n",
            "0   0             Data Scientist   $53K-$91K (Glassdoor est.)   None     3.8   \n",
            "1   1  Healthcare Data Scientist  $63K-$112K (Glassdoor est.)   None     3.4   \n",
            "2   2             Data Scientist   $80K-$90K (Glassdoor est.)   None     4.8   \n",
            "3   3             Data Scientist   $56K-$97K (Glassdoor est.)   None     3.8   \n",
            "4   4             Data Scientist  $86K-$143K (Glassdoor est.)   None     2.9   \n",
            "\n",
            "                                 Company_Name         Location  \\\n",
            "0                      Tecolote Research\\n3.8  Albuquerque, NM   \n",
            "1  University of Maryland Medical System\\n3.4    Linthicum, MD   \n",
            "2                                KnowBe4\\n4.8   Clearwater, FL   \n",
            "3                                   PNNL\\n3.8     Richland, WA   \n",
            "4                     Affinity Solutions\\n2.9     New York, NY   \n",
            "\n",
            "     Headquarters         Size  Founded  ... tensor hadoop tableau bi flink  \\\n",
            "0      Goleta, CA   501 - 1000     1973  ...      0      0       1  1     0   \n",
            "1   Baltimore, MD       10000+     1984  ...      0      0       0  0     0   \n",
            "2  Clearwater, FL   501 - 1000     2010  ...      0      0       0  0     0   \n",
            "3    Richland, WA  1001 - 5000     1965  ...      0      0       0  0     0   \n",
            "4    New York, NY     51 - 200     1998  ...      0      0       0  0     0   \n",
            "\n",
            "   mongo  google_an   job_title_sim  seniority_by_title  Degree  \n",
            "0      0          0  data scientist                  na       M  \n",
            "1      0          0  data scientist                  na       M  \n",
            "2      0          0  data scientist                  na       M  \n",
            "3      0          0  data scientist                  na      na  \n",
            "4      0          0  data scientist                  na      na  \n",
            "\n",
            "[5 rows x 42 columns]\n",
            "<bound method DataFrame.sum of         ID  Job_Title  Salary_Estimate  FIELD4  Rating  Company_Name  \\\n",
            "0    False      False            False    True   False         False   \n",
            "1    False      False            False    True   False         False   \n",
            "2    False      False            False    True   False         False   \n",
            "3    False      False            False    True   False         False   \n",
            "4    False      False            False    True   False         False   \n",
            "..     ...        ...              ...     ...     ...           ...   \n",
            "737  False      False            False    True   False         False   \n",
            "738  False      False            False    True   False         False   \n",
            "739  False      False            False    True   False         False   \n",
            "740  False      False            False    True   False         False   \n",
            "741  False      False            False    True   False         False   \n",
            "\n",
            "     Location  Headquarters   Size  Founded  ...  tensor  hadoop  tableau  \\\n",
            "0       False         False  False    False  ...   False   False    False   \n",
            "1       False         False  False    False  ...   False   False    False   \n",
            "2       False         False  False    False  ...   False   False    False   \n",
            "3       False         False  False    False  ...   False   False    False   \n",
            "4       False         False  False    False  ...   False   False    False   \n",
            "..        ...           ...    ...      ...  ...     ...     ...      ...   \n",
            "737     False         False  False    False  ...   False   False    False   \n",
            "738     False         False  False    False  ...   False   False    False   \n",
            "739     False         False  False    False  ...   False   False    False   \n",
            "740     False         False  False    False  ...   False   False    False   \n",
            "741     False         False  False    False  ...   False   False    False   \n",
            "\n",
            "        bi  flink  mongo  google_an  job_title_sim  seniority_by_title  Degree  \n",
            "0    False  False  False      False          False               False   False  \n",
            "1    False  False  False      False          False               False   False  \n",
            "2    False  False  False      False          False               False   False  \n",
            "3    False  False  False      False          False               False   False  \n",
            "4    False  False  False      False          False               False   False  \n",
            "..     ...    ...    ...        ...            ...                 ...     ...  \n",
            "737  False  False  False      False          False               False   False  \n",
            "738  False  False  False      False          False               False   False  \n",
            "739  False  False  False      False          False               False   False  \n",
            "740  False  False  False      False          False               False   False  \n",
            "741  False  False  False      False          False               False   False  \n",
            "\n",
            "[742 rows x 42 columns]>\n"
          ]
        }
      ]
    },
    {
      "cell_type": "code",
      "source": [
        "# Initital Exploration\n",
        "df.replace(-1,np.nan,inplace=True)"
      ],
      "metadata": {
        "id": "aIWJjjCylNyX"
      },
      "execution_count": null,
      "outputs": []
    },
    {
      "cell_type": "code",
      "metadata": {
        "id": "179da24f"
      },
      "source": [
        "# Data cleaning\n",
        "df.drop_duplicates(inplace=True)\n",
        "df.reset_index(drop=True, inplace=True)"
      ],
      "execution_count": null,
      "outputs": []
    },
    {
      "cell_type": "code",
      "metadata": {
        "colab": {
          "base_uri": "https://localhost:8080/"
        },
        "id": "7dad588b",
        "outputId": "21b123d6-8791-4867-f38c-f567279d8b55"
      },
      "source": [
        "missing_values = df.isnull().sum()\n",
        "missing_values = missing_values[missing_values > 0]\n",
        "print(\"Columns with missing values and their data types:\")\n",
        "for column in missing_values.index:\n",
        "    print(f\"- {column}: {df[column].dtype}\")\n",
        "\n",
        "for column in missing_values.index:\n",
        "    if df[column].dtype == 'object':\n",
        "        mode_value = df[column].mode()[0]\n",
        "        df[column].fillna(mode_value, inplace=True)\n",
        "    elif df[column].dtype in ['int64', 'float64']:\n",
        "        median_value = df[column].median()\n",
        "        df[column].fillna(median_value, inplace=True)\n",
        "\n",
        "print(\"\\nMissing values after imputation:\")\n",
        "print(df.isnull().sum().sum())"
      ],
      "execution_count": null,
      "outputs": [
        {
          "output_type": "stream",
          "name": "stdout",
          "text": [
            "Columns with missing values and their data types:\n",
            "- Rating: float64\n",
            "- Founded: float64\n",
            "- Age: float64\n",
            "\n",
            "Missing values after imputation:\n",
            "0\n"
          ]
        },
        {
          "output_type": "stream",
          "name": "stderr",
          "text": [
            "/tmp/ipython-input-2379826237.py:13: FutureWarning: A value is trying to be set on a copy of a DataFrame or Series through chained assignment using an inplace method.\n",
            "The behavior will change in pandas 3.0. This inplace method will never work because the intermediate object on which we are setting values always behaves as a copy.\n",
            "\n",
            "For example, when doing 'df[col].method(value, inplace=True)', try using 'df.method({col: value}, inplace=True)' or df[col] = df[col].method(value) instead, to perform the operation inplace on the original object.\n",
            "\n",
            "\n",
            "  df[column].fillna(median_value, inplace=True)\n"
          ]
        }
      ]
    },
    {
      "cell_type": "code",
      "metadata": {
        "colab": {
          "base_uri": "https://localhost:8080/",
          "height": 272
        },
        "id": "03d5f000",
        "outputId": "0e5fa4ca-e2e5-4767-b0ce-8aa2e83715ac"
      },
      "source": [
        "df['Job_Title'] = df['Job_Title'].str.lower().str.strip()\n",
        "job_title_mapping = {\n",
        "    'data scientist i': 'data scientist',\n",
        "    'data scientist ii': 'data scientist',\n",
        "    'data scientist iii': 'data scientist',\n",
        "    'senior data scientist': 'data scientist',\n",
        "    'sr. data scientist': 'data scientist',\n",
        "    'lead data scientist': 'data scientist',\n",
        "    'principal data scientist': 'data scientist',\n",
        "    'data engineer i': 'data engineer',\n",
        "    'data engineer ii': 'data engineer',\n",
        "    'data engineer iii': 'data engineer',\n",
        "    'senior data engineer': 'data engineer',\n",
        "    'sr. data engineer': 'data engineer',\n",
        "    'lead data engineer': 'data engineer',\n",
        "    'principal data engineer': 'data engineer',\n",
        "    'data analyst i': 'data analyst',\n",
        "    'data analyst ii': 'data analyst',\n",
        "    'data analyst iii': 'data analyst',\n",
        "    'senior data analyst': 'data analyst',\n",
        "    'sr. data analyst': 'data analyst',\n",
        "    'lead data analyst': 'data analyst',\n",
        "    'principal data analyst': 'data analyst',\n",
        "    'machine learning engineer': 'machine learning engineer',\n",
        "    'ml engineer': 'machine learning engineer',\n",
        "    'research scientist': 'research scientist',\n",
        "    'research scientist – security and privacy': 'research scientist',\n",
        "    'sr scientist, immuno-oncology - oncology': 'research scientist',\n",
        "    'project scientist - auton lab, robotics institute': 'research scientist',\n",
        "    'analytics engineer': 'analytics engineer',\n",
        "    'business intelligence analyst': 'business intelligence analyst',\n",
        "    'bi analyst': 'business intelligence analyst',\n",
        "    'big data engineer': 'data engineer',\n",
        "    'cloud engineer': 'cloud engineer',\n",
        "    'software engineer': 'software engineer',\n",
        "    'software engineer lll': 'software engineer',\n",
        "    'software engineer iv': 'software engineer',\n",
        "    'software engineer v': 'software engineer',\n",
        "    'director of data science': 'data science manager',\n",
        "    'data science manager': 'data science manager',\n",
        "    'manager, data engineering': 'data engineer manager',\n",
        "    'data engineering manager': 'data engineer manager',\n",
        "    'director of analytics': 'analytics manager',\n",
        "    'analytics manager': 'analytics manager',\n",
        "    'director': 'manager',\n",
        "    'manager': 'manager',\n",
        "    'principal': 'manager',\n",
        "    'lead': 'manager',\n",
        "    'sr': 'manager',\n",
        "    'senior': 'manager'\n",
        "\n",
        "}\n",
        "df['Job_Title'] = df['Job_Title'].replace(job_title_mapping, regex=True)\n",
        "display(df['Job_Title'].value_counts().head())"
      ],
      "execution_count": null,
      "outputs": [
        {
          "output_type": "display_data",
          "data": {
            "text/plain": [
              "Job_Title\n",
              "data scientist            179\n",
              "data engineer              79\n",
              "data analyst               32\n",
              "research scientist         11\n",
              "marketing data analyst      6\n",
              "Name: count, dtype: int64"
            ],
            "text/html": [
              "<div>\n",
              "<style scoped>\n",
              "    .dataframe tbody tr th:only-of-type {\n",
              "        vertical-align: middle;\n",
              "    }\n",
              "\n",
              "    .dataframe tbody tr th {\n",
              "        vertical-align: top;\n",
              "    }\n",
              "\n",
              "    .dataframe thead th {\n",
              "        text-align: right;\n",
              "    }\n",
              "</style>\n",
              "<table border=\"1\" class=\"dataframe\">\n",
              "  <thead>\n",
              "    <tr style=\"text-align: right;\">\n",
              "      <th></th>\n",
              "      <th>count</th>\n",
              "    </tr>\n",
              "    <tr>\n",
              "      <th>Job_Title</th>\n",
              "      <th></th>\n",
              "    </tr>\n",
              "  </thead>\n",
              "  <tbody>\n",
              "    <tr>\n",
              "      <th>data scientist</th>\n",
              "      <td>179</td>\n",
              "    </tr>\n",
              "    <tr>\n",
              "      <th>data engineer</th>\n",
              "      <td>79</td>\n",
              "    </tr>\n",
              "    <tr>\n",
              "      <th>data analyst</th>\n",
              "      <td>32</td>\n",
              "    </tr>\n",
              "    <tr>\n",
              "      <th>research scientist</th>\n",
              "      <td>11</td>\n",
              "    </tr>\n",
              "    <tr>\n",
              "      <th>marketing data analyst</th>\n",
              "      <td>6</td>\n",
              "    </tr>\n",
              "  </tbody>\n",
              "</table>\n",
              "</div><br><label><b>dtype:</b> int64</label>"
            ]
          },
          "metadata": {}
        }
      ]
    },
    {
      "cell_type": "code",
      "metadata": {
        "colab": {
          "base_uri": "https://localhost:8080/",
          "height": 146
        },
        "id": "fe809561",
        "outputId": "20fab352-743a-4aba-e150-af31bae8c97f"
      },
      "source": [
        "df['Location'] = df['Location'].str.lower().str.strip()\n",
        "df['Location'] = df['Location'].str.extract(r', ([A-Z]{2})').fillna(df['Location'])\n",
        "display(df['Location'].value_counts())"
      ],
      "execution_count": null,
      "outputs": [
        {
          "output_type": "display_data",
          "data": {
            "text/plain": [
              "Location\n",
              "albuquerque, nm    742\n",
              "Name: count, dtype: int64"
            ],
            "text/html": [
              "<div>\n",
              "<style scoped>\n",
              "    .dataframe tbody tr th:only-of-type {\n",
              "        vertical-align: middle;\n",
              "    }\n",
              "\n",
              "    .dataframe tbody tr th {\n",
              "        vertical-align: top;\n",
              "    }\n",
              "\n",
              "    .dataframe thead th {\n",
              "        text-align: right;\n",
              "    }\n",
              "</style>\n",
              "<table border=\"1\" class=\"dataframe\">\n",
              "  <thead>\n",
              "    <tr style=\"text-align: right;\">\n",
              "      <th></th>\n",
              "      <th>count</th>\n",
              "    </tr>\n",
              "    <tr>\n",
              "      <th>Location</th>\n",
              "      <th></th>\n",
              "    </tr>\n",
              "  </thead>\n",
              "  <tbody>\n",
              "    <tr>\n",
              "      <th>albuquerque, nm</th>\n",
              "      <td>742</td>\n",
              "    </tr>\n",
              "  </tbody>\n",
              "</table>\n",
              "</div><br><label><b>dtype:</b> int64</label>"
            ]
          },
          "metadata": {}
        }
      ]
    },
    {
      "cell_type": "code",
      "metadata": {
        "colab": {
          "base_uri": "https://localhost:8080/",
          "height": 146
        },
        "id": "34a7cfbd",
        "outputId": "a58563ab-3dee-46fd-ecff-75fac7820684"
      },
      "source": [
        "df['Location'] = df['Location'].str.lower().str.strip()\n",
        "df['Location'] = df['Location'].str.extract(r'\\, ([a-z]{2})').fillna(df['Location'])\n",
        "display(df['Location'].value_counts())"
      ],
      "execution_count": null,
      "outputs": [
        {
          "output_type": "display_data",
          "data": {
            "text/plain": [
              "Location\n",
              "nm    742\n",
              "Name: count, dtype: int64"
            ],
            "text/html": [
              "<div>\n",
              "<style scoped>\n",
              "    .dataframe tbody tr th:only-of-type {\n",
              "        vertical-align: middle;\n",
              "    }\n",
              "\n",
              "    .dataframe tbody tr th {\n",
              "        vertical-align: top;\n",
              "    }\n",
              "\n",
              "    .dataframe thead th {\n",
              "        text-align: right;\n",
              "    }\n",
              "</style>\n",
              "<table border=\"1\" class=\"dataframe\">\n",
              "  <thead>\n",
              "    <tr style=\"text-align: right;\">\n",
              "      <th></th>\n",
              "      <th>count</th>\n",
              "    </tr>\n",
              "    <tr>\n",
              "      <th>Location</th>\n",
              "      <th></th>\n",
              "    </tr>\n",
              "  </thead>\n",
              "  <tbody>\n",
              "    <tr>\n",
              "      <th>nm</th>\n",
              "      <td>742</td>\n",
              "    </tr>\n",
              "  </tbody>\n",
              "</table>\n",
              "</div><br><label><b>dtype:</b> int64</label>"
            ]
          },
          "metadata": {}
        }
      ]
    },
    {
      "cell_type": "code",
      "metadata": {
        "colab": {
          "base_uri": "https://localhost:8080/",
          "height": 146
        },
        "id": "6fb43e67",
        "outputId": "8634ced5-af43-439b-b0d1-5f1128a58c81"
      },
      "source": [
        "df['Location'] = df['Location'].str.lower().str.strip()\n",
        "df['Location'] = df['Location'].str.extract(r'([a-z]{2})$').fillna(df['Location'])\n",
        "display(df['Location'].value_counts())"
      ],
      "execution_count": null,
      "outputs": [
        {
          "output_type": "display_data",
          "data": {
            "text/plain": [
              "Location\n",
              "nm    742\n",
              "Name: count, dtype: int64"
            ],
            "text/html": [
              "<div>\n",
              "<style scoped>\n",
              "    .dataframe tbody tr th:only-of-type {\n",
              "        vertical-align: middle;\n",
              "    }\n",
              "\n",
              "    .dataframe tbody tr th {\n",
              "        vertical-align: top;\n",
              "    }\n",
              "\n",
              "    .dataframe thead th {\n",
              "        text-align: right;\n",
              "    }\n",
              "</style>\n",
              "<table border=\"1\" class=\"dataframe\">\n",
              "  <thead>\n",
              "    <tr style=\"text-align: right;\">\n",
              "      <th></th>\n",
              "      <th>count</th>\n",
              "    </tr>\n",
              "    <tr>\n",
              "      <th>Location</th>\n",
              "      <th></th>\n",
              "    </tr>\n",
              "  </thead>\n",
              "  <tbody>\n",
              "    <tr>\n",
              "      <th>nm</th>\n",
              "      <td>742</td>\n",
              "    </tr>\n",
              "  </tbody>\n",
              "</table>\n",
              "</div><br><label><b>dtype:</b> int64</label>"
            ]
          },
          "metadata": {}
        }
      ]
    },
    {
      "cell_type": "code",
      "metadata": {
        "colab": {
          "base_uri": "https://localhost:8080/",
          "height": 146
        },
        "id": "9d243a36",
        "outputId": "b8be9b50-6cb7-4503-9f6e-2c45467fc0a5"
      },
      "source": [
        "df['Location'] = df['Location'].str.lower().str.strip()\n",
        "df['Location'] = df['Location'].str.extract(r',\\s*([a-z]{2})$')\n",
        "df['Location'] = df['Location'].fillna('unknown')\n",
        "display(df['Location'].value_counts())"
      ],
      "execution_count": null,
      "outputs": [
        {
          "output_type": "display_data",
          "data": {
            "text/plain": [
              "Location\n",
              "unknown    742\n",
              "Name: count, dtype: int64"
            ],
            "text/html": [
              "<div>\n",
              "<style scoped>\n",
              "    .dataframe tbody tr th:only-of-type {\n",
              "        vertical-align: middle;\n",
              "    }\n",
              "\n",
              "    .dataframe tbody tr th {\n",
              "        vertical-align: top;\n",
              "    }\n",
              "\n",
              "    .dataframe thead th {\n",
              "        text-align: right;\n",
              "    }\n",
              "</style>\n",
              "<table border=\"1\" class=\"dataframe\">\n",
              "  <thead>\n",
              "    <tr style=\"text-align: right;\">\n",
              "      <th></th>\n",
              "      <th>count</th>\n",
              "    </tr>\n",
              "    <tr>\n",
              "      <th>Location</th>\n",
              "      <th></th>\n",
              "    </tr>\n",
              "  </thead>\n",
              "  <tbody>\n",
              "    <tr>\n",
              "      <th>unknown</th>\n",
              "      <td>742</td>\n",
              "    </tr>\n",
              "  </tbody>\n",
              "</table>\n",
              "</div><br><label><b>dtype:</b> int64</label>"
            ]
          },
          "metadata": {}
        }
      ]
    },
    {
      "cell_type": "code",
      "metadata": {
        "colab": {
          "base_uri": "https://localhost:8080/",
          "height": 146
        },
        "id": "30dfb5f2",
        "outputId": "19dd1089-cb47-4645-fa68-adbd54a31a4f"
      },
      "source": [
        "df['Location'] = df['Location'].str.lower().str.strip()\n",
        "df['Location'] = df['Location'].str.extract(r'([a-z]{2})')\n",
        "display(df['Location'].value_counts())"
      ],
      "execution_count": null,
      "outputs": [
        {
          "output_type": "display_data",
          "data": {
            "text/plain": [
              "Location\n",
              "un    742\n",
              "Name: count, dtype: int64"
            ],
            "text/html": [
              "<div>\n",
              "<style scoped>\n",
              "    .dataframe tbody tr th:only-of-type {\n",
              "        vertical-align: middle;\n",
              "    }\n",
              "\n",
              "    .dataframe tbody tr th {\n",
              "        vertical-align: top;\n",
              "    }\n",
              "\n",
              "    .dataframe thead th {\n",
              "        text-align: right;\n",
              "    }\n",
              "</style>\n",
              "<table border=\"1\" class=\"dataframe\">\n",
              "  <thead>\n",
              "    <tr style=\"text-align: right;\">\n",
              "      <th></th>\n",
              "      <th>count</th>\n",
              "    </tr>\n",
              "    <tr>\n",
              "      <th>Location</th>\n",
              "      <th></th>\n",
              "    </tr>\n",
              "  </thead>\n",
              "  <tbody>\n",
              "    <tr>\n",
              "      <th>un</th>\n",
              "      <td>742</td>\n",
              "    </tr>\n",
              "  </tbody>\n",
              "</table>\n",
              "</div><br><label><b>dtype:</b> int64</label>"
            ]
          },
          "metadata": {}
        }
      ]
    },
    {
      "cell_type": "code",
      "metadata": {
        "colab": {
          "base_uri": "https://localhost:8080/",
          "height": 146
        },
        "id": "09fde5cf",
        "outputId": "1d690345-81bb-4887-e16c-49ee7ed45be9"
      },
      "source": [
        "df['Location'] = df['Location'].str.lower().str.strip()\n",
        "df['Location'] = df['Location'].str.split(',').str[-1].str.strip()\n",
        "display(df['Location'].value_counts())"
      ],
      "execution_count": null,
      "outputs": [
        {
          "output_type": "display_data",
          "data": {
            "text/plain": [
              "Location\n",
              "un    742\n",
              "Name: count, dtype: int64"
            ],
            "text/html": [
              "<div>\n",
              "<style scoped>\n",
              "    .dataframe tbody tr th:only-of-type {\n",
              "        vertical-align: middle;\n",
              "    }\n",
              "\n",
              "    .dataframe tbody tr th {\n",
              "        vertical-align: top;\n",
              "    }\n",
              "\n",
              "    .dataframe thead th {\n",
              "        text-align: right;\n",
              "    }\n",
              "</style>\n",
              "<table border=\"1\" class=\"dataframe\">\n",
              "  <thead>\n",
              "    <tr style=\"text-align: right;\">\n",
              "      <th></th>\n",
              "      <th>count</th>\n",
              "    </tr>\n",
              "    <tr>\n",
              "      <th>Location</th>\n",
              "      <th></th>\n",
              "    </tr>\n",
              "  </thead>\n",
              "  <tbody>\n",
              "    <tr>\n",
              "      <th>un</th>\n",
              "      <td>742</td>\n",
              "    </tr>\n",
              "  </tbody>\n",
              "</table>\n",
              "</div><br><label><b>dtype:</b> int64</label>"
            ]
          },
          "metadata": {}
        }
      ]
    },
    {
      "cell_type": "code",
      "metadata": {
        "colab": {
          "base_uri": "https://localhost:8080/",
          "height": 34
        },
        "id": "8cfc0b2f",
        "outputId": "db9b8ebf-eefc-4306-80a6-efb06c244510"
      },
      "source": [
        "display(df['Location'].unique())"
      ],
      "execution_count": null,
      "outputs": [
        {
          "output_type": "display_data",
          "data": {
            "text/plain": [
              "array(['un'], dtype=object)"
            ]
          },
          "metadata": {}
        }
      ]
    },
    {
      "cell_type": "code",
      "metadata": {
        "colab": {
          "base_uri": "https://localhost:8080/",
          "height": 146
        },
        "id": "78be3d7c",
        "outputId": "6dc3a1fd-241d-4557-af4c-5acad6300b0e"
      },
      "source": [
        "df['Location'] = df['Location'].str.lower().str.strip()\n",
        "df['State'] = df['Location'].str.extract(r',\\s*([a-z]{2})$')\n",
        "df['Location'] = df['State'].fillna(df['Location'])\n",
        "df.drop('State', axis=1, inplace=True)\n",
        "display(df['Location'].value_counts())"
      ],
      "execution_count": null,
      "outputs": [
        {
          "output_type": "display_data",
          "data": {
            "text/plain": [
              "Location\n",
              "un    742\n",
              "Name: count, dtype: int64"
            ],
            "text/html": [
              "<div>\n",
              "<style scoped>\n",
              "    .dataframe tbody tr th:only-of-type {\n",
              "        vertical-align: middle;\n",
              "    }\n",
              "\n",
              "    .dataframe tbody tr th {\n",
              "        vertical-align: top;\n",
              "    }\n",
              "\n",
              "    .dataframe thead th {\n",
              "        text-align: right;\n",
              "    }\n",
              "</style>\n",
              "<table border=\"1\" class=\"dataframe\">\n",
              "  <thead>\n",
              "    <tr style=\"text-align: right;\">\n",
              "      <th></th>\n",
              "      <th>count</th>\n",
              "    </tr>\n",
              "    <tr>\n",
              "      <th>Location</th>\n",
              "      <th></th>\n",
              "    </tr>\n",
              "  </thead>\n",
              "  <tbody>\n",
              "    <tr>\n",
              "      <th>un</th>\n",
              "      <td>742</td>\n",
              "    </tr>\n",
              "  </tbody>\n",
              "</table>\n",
              "</div><br><label><b>dtype:</b> int64</label>"
            ]
          },
          "metadata": {}
        }
      ]
    },
    {
      "cell_type": "code",
      "metadata": {
        "colab": {
          "base_uri": "https://localhost:8080/",
          "height": 146
        },
        "id": "b928ef54",
        "outputId": "366f39e4-80a9-4383-88c8-39e366d7b65c"
      },
      "source": [
        "df['Location'] = df['Location'].str.lower().str.strip()\n",
        "df['State'] = df['Location'].str.extract(r',\\s*([a-z]{2})$')\n",
        "df['Location'] = df['State'].fillna(df['Location'])\n",
        "df.drop('State', axis=1, inplace=True)\n",
        "display(df['Location'].value_counts())"
      ],
      "execution_count": null,
      "outputs": [
        {
          "output_type": "display_data",
          "data": {
            "text/plain": [
              "Location\n",
              "un    742\n",
              "Name: count, dtype: int64"
            ],
            "text/html": [
              "<div>\n",
              "<style scoped>\n",
              "    .dataframe tbody tr th:only-of-type {\n",
              "        vertical-align: middle;\n",
              "    }\n",
              "\n",
              "    .dataframe tbody tr th {\n",
              "        vertical-align: top;\n",
              "    }\n",
              "\n",
              "    .dataframe thead th {\n",
              "        text-align: right;\n",
              "    }\n",
              "</style>\n",
              "<table border=\"1\" class=\"dataframe\">\n",
              "  <thead>\n",
              "    <tr style=\"text-align: right;\">\n",
              "      <th></th>\n",
              "      <th>count</th>\n",
              "    </tr>\n",
              "    <tr>\n",
              "      <th>Location</th>\n",
              "      <th></th>\n",
              "    </tr>\n",
              "  </thead>\n",
              "  <tbody>\n",
              "    <tr>\n",
              "      <th>un</th>\n",
              "      <td>742</td>\n",
              "    </tr>\n",
              "  </tbody>\n",
              "</table>\n",
              "</div><br><label><b>dtype:</b> int64</label>"
            ]
          },
          "metadata": {}
        }
      ]
    },
    {
      "cell_type": "code",
      "metadata": {
        "colab": {
          "base_uri": "https://localhost:8080/",
          "height": 146
        },
        "id": "ded221c5",
        "outputId": "142cc9ba-ac5a-470c-8e49-71f31e632b62"
      },
      "source": [
        "df['Location'] = df['Location'].str.lower().str.strip()\n",
        "df['State'] = df['Location'].str.extract(r',\\s*([a-z]{2})$')\n",
        "df['Location'] = df['State'].fillna(df['Location'])\n",
        "df.drop('State', axis=1, inplace=True)\n",
        "display(df['Location'].value_counts())"
      ],
      "execution_count": null,
      "outputs": [
        {
          "output_type": "display_data",
          "data": {
            "text/plain": [
              "Location\n",
              "un    742\n",
              "Name: count, dtype: int64"
            ],
            "text/html": [
              "<div>\n",
              "<style scoped>\n",
              "    .dataframe tbody tr th:only-of-type {\n",
              "        vertical-align: middle;\n",
              "    }\n",
              "\n",
              "    .dataframe tbody tr th {\n",
              "        vertical-align: top;\n",
              "    }\n",
              "\n",
              "    .dataframe thead th {\n",
              "        text-align: right;\n",
              "    }\n",
              "</style>\n",
              "<table border=\"1\" class=\"dataframe\">\n",
              "  <thead>\n",
              "    <tr style=\"text-align: right;\">\n",
              "      <th></th>\n",
              "      <th>count</th>\n",
              "    </tr>\n",
              "    <tr>\n",
              "      <th>Location</th>\n",
              "      <th></th>\n",
              "    </tr>\n",
              "  </thead>\n",
              "  <tbody>\n",
              "    <tr>\n",
              "      <th>un</th>\n",
              "      <td>742</td>\n",
              "    </tr>\n",
              "  </tbody>\n",
              "</table>\n",
              "</div><br><label><b>dtype:</b> int64</label>"
            ]
          },
          "metadata": {}
        }
      ]
    },
    {
      "cell_type": "code",
      "metadata": {
        "colab": {
          "base_uri": "https://localhost:8080/",
          "height": 1000
        },
        "id": "dfnww-Pjnw-E",
        "outputId": "24396e20-a4c7-4de7-9f2d-875fd8991374"
      },
      "source": [
        "conn=mysql.connector.connect(\n",
        "    host='18.136.157.135',\n",
        "    user='dm_team8',\n",
        "    password='DM!$!Team!82@04!23&',\n",
        "    database='project_job_market_analysis'\n",
        ")\n",
        "query=\"SELECT * FROM Market\"\n",
        "df=pd.read_sql(query,conn)\n",
        "conn.close()\n",
        "\n",
        "df['Location'] = df['Location'].str.lower().str.strip()\n",
        "df['State'] = df['Location'].str.extract(r',\\s*([a-z]{2})$')\n",
        "df['Location'] = df['State'].fillna(df['Location'])\n",
        "df.drop('State', axis=1, inplace=True)\n",
        "display(df['Location'].value_counts())"
      ],
      "execution_count": null,
      "outputs": [
        {
          "output_type": "stream",
          "name": "stderr",
          "text": [
            "/tmp/ipython-input-17122034.py:8: UserWarning: pandas only supports SQLAlchemy connectable (engine/connection) or database string URI or sqlite3 DBAPI2 connection. Other DBAPI2 objects are not tested. Please consider using SQLAlchemy.\n",
            "  df=pd.read_sql(query,conn)\n"
          ]
        },
        {
          "output_type": "display_data",
          "data": {
            "text/plain": [
              "Location\n",
              "ca    152\n",
              "ma    103\n",
              "ny     72\n",
              "va     41\n",
              "il     40\n",
              "md     35\n",
              "pa     33\n",
              "tx     28\n",
              "wa     21\n",
              "nc     21\n",
              "nj     17\n",
              "fl     16\n",
              "oh     14\n",
              "tn     13\n",
              "dc     11\n",
              "co     11\n",
              "in     10\n",
              "ut     10\n",
              "wi     10\n",
              "az      9\n",
              "mo      9\n",
              "al      8\n",
              "ga      6\n",
              "mi      6\n",
              "ky      6\n",
              "de      6\n",
              "ia      5\n",
              "ct      5\n",
              "or      4\n",
              "ne      4\n",
              "la      4\n",
              "nm      3\n",
              "ks      3\n",
              "mn      2\n",
              "id      2\n",
              "ri      1\n",
              "sc      1\n",
              "Name: count, dtype: int64"
            ],
            "text/html": [
              "<div>\n",
              "<style scoped>\n",
              "    .dataframe tbody tr th:only-of-type {\n",
              "        vertical-align: middle;\n",
              "    }\n",
              "\n",
              "    .dataframe tbody tr th {\n",
              "        vertical-align: top;\n",
              "    }\n",
              "\n",
              "    .dataframe thead th {\n",
              "        text-align: right;\n",
              "    }\n",
              "</style>\n",
              "<table border=\"1\" class=\"dataframe\">\n",
              "  <thead>\n",
              "    <tr style=\"text-align: right;\">\n",
              "      <th></th>\n",
              "      <th>count</th>\n",
              "    </tr>\n",
              "    <tr>\n",
              "      <th>Location</th>\n",
              "      <th></th>\n",
              "    </tr>\n",
              "  </thead>\n",
              "  <tbody>\n",
              "    <tr>\n",
              "      <th>ca</th>\n",
              "      <td>152</td>\n",
              "    </tr>\n",
              "    <tr>\n",
              "      <th>ma</th>\n",
              "      <td>103</td>\n",
              "    </tr>\n",
              "    <tr>\n",
              "      <th>ny</th>\n",
              "      <td>72</td>\n",
              "    </tr>\n",
              "    <tr>\n",
              "      <th>va</th>\n",
              "      <td>41</td>\n",
              "    </tr>\n",
              "    <tr>\n",
              "      <th>il</th>\n",
              "      <td>40</td>\n",
              "    </tr>\n",
              "    <tr>\n",
              "      <th>md</th>\n",
              "      <td>35</td>\n",
              "    </tr>\n",
              "    <tr>\n",
              "      <th>pa</th>\n",
              "      <td>33</td>\n",
              "    </tr>\n",
              "    <tr>\n",
              "      <th>tx</th>\n",
              "      <td>28</td>\n",
              "    </tr>\n",
              "    <tr>\n",
              "      <th>wa</th>\n",
              "      <td>21</td>\n",
              "    </tr>\n",
              "    <tr>\n",
              "      <th>nc</th>\n",
              "      <td>21</td>\n",
              "    </tr>\n",
              "    <tr>\n",
              "      <th>nj</th>\n",
              "      <td>17</td>\n",
              "    </tr>\n",
              "    <tr>\n",
              "      <th>fl</th>\n",
              "      <td>16</td>\n",
              "    </tr>\n",
              "    <tr>\n",
              "      <th>oh</th>\n",
              "      <td>14</td>\n",
              "    </tr>\n",
              "    <tr>\n",
              "      <th>tn</th>\n",
              "      <td>13</td>\n",
              "    </tr>\n",
              "    <tr>\n",
              "      <th>dc</th>\n",
              "      <td>11</td>\n",
              "    </tr>\n",
              "    <tr>\n",
              "      <th>co</th>\n",
              "      <td>11</td>\n",
              "    </tr>\n",
              "    <tr>\n",
              "      <th>in</th>\n",
              "      <td>10</td>\n",
              "    </tr>\n",
              "    <tr>\n",
              "      <th>ut</th>\n",
              "      <td>10</td>\n",
              "    </tr>\n",
              "    <tr>\n",
              "      <th>wi</th>\n",
              "      <td>10</td>\n",
              "    </tr>\n",
              "    <tr>\n",
              "      <th>az</th>\n",
              "      <td>9</td>\n",
              "    </tr>\n",
              "    <tr>\n",
              "      <th>mo</th>\n",
              "      <td>9</td>\n",
              "    </tr>\n",
              "    <tr>\n",
              "      <th>al</th>\n",
              "      <td>8</td>\n",
              "    </tr>\n",
              "    <tr>\n",
              "      <th>ga</th>\n",
              "      <td>6</td>\n",
              "    </tr>\n",
              "    <tr>\n",
              "      <th>mi</th>\n",
              "      <td>6</td>\n",
              "    </tr>\n",
              "    <tr>\n",
              "      <th>ky</th>\n",
              "      <td>6</td>\n",
              "    </tr>\n",
              "    <tr>\n",
              "      <th>de</th>\n",
              "      <td>6</td>\n",
              "    </tr>\n",
              "    <tr>\n",
              "      <th>ia</th>\n",
              "      <td>5</td>\n",
              "    </tr>\n",
              "    <tr>\n",
              "      <th>ct</th>\n",
              "      <td>5</td>\n",
              "    </tr>\n",
              "    <tr>\n",
              "      <th>or</th>\n",
              "      <td>4</td>\n",
              "    </tr>\n",
              "    <tr>\n",
              "      <th>ne</th>\n",
              "      <td>4</td>\n",
              "    </tr>\n",
              "    <tr>\n",
              "      <th>la</th>\n",
              "      <td>4</td>\n",
              "    </tr>\n",
              "    <tr>\n",
              "      <th>nm</th>\n",
              "      <td>3</td>\n",
              "    </tr>\n",
              "    <tr>\n",
              "      <th>ks</th>\n",
              "      <td>3</td>\n",
              "    </tr>\n",
              "    <tr>\n",
              "      <th>mn</th>\n",
              "      <td>2</td>\n",
              "    </tr>\n",
              "    <tr>\n",
              "      <th>id</th>\n",
              "      <td>2</td>\n",
              "    </tr>\n",
              "    <tr>\n",
              "      <th>ri</th>\n",
              "      <td>1</td>\n",
              "    </tr>\n",
              "    <tr>\n",
              "      <th>sc</th>\n",
              "      <td>1</td>\n",
              "    </tr>\n",
              "  </tbody>\n",
              "</table>\n",
              "</div><br><label><b>dtype:</b> int64</label>"
            ]
          },
          "metadata": {}
        }
      ]
    },
    {
      "cell_type": "code",
      "metadata": {
        "colab": {
          "base_uri": "https://localhost:8080/"
        },
        "id": "a599b28c",
        "outputId": "ee3032be-a576-44c2-cb8d-aded60875016"
      },
      "source": [
        "print(df.shape)\n",
        "print(df.isnull().sum().sum())\n",
        "print(df.duplicated().sum())"
      ],
      "execution_count": null,
      "outputs": [
        {
          "output_type": "stream",
          "name": "stdout",
          "text": [
            "(742, 42)\n",
            "742\n",
            "0\n"
          ]
        }
      ]
    },
    {
      "cell_type": "code",
      "metadata": {
        "colab": {
          "base_uri": "https://localhost:8080/"
        },
        "id": "e9c425bd",
        "outputId": "bdc81a4c-dc82-4587-e4ed-81dab6b5ffea"
      },
      "source": [
        "print(\"Shape of the DataFrame:\", df.shape)\n",
        "print(\"Total number of missing values:\", df.isnull().sum().sum())\n",
        "print(\"Total number of duplicate rows:\", df.duplicated().sum())\n",
        "\n",
        "missing_values = df.isnull().sum()\n",
        "missing_values = missing_values[missing_values > 0]\n",
        "print(\"\\nColumns with remaining missing values and their data types:\")\n",
        "for column in missing_values.index:\n",
        "    print(f\"- {column}: {df[column].dtype}\")"
      ],
      "execution_count": null,
      "outputs": [
        {
          "output_type": "stream",
          "name": "stdout",
          "text": [
            "Shape of the DataFrame: (742, 42)\n",
            "Total number of missing values: 742\n",
            "Total number of duplicate rows: 0\n",
            "\n",
            "Columns with remaining missing values and their data types:\n",
            "- FIELD4: object\n"
          ]
        }
      ]
    },
    {
      "cell_type": "code",
      "metadata": {
        "colab": {
          "base_uri": "https://localhost:8080/"
        },
        "id": "ea9f5fd1",
        "outputId": "b910103d-5cc4-482e-ca41-a4d60590c37d"
      },
      "source": [
        "missing_values = df.isnull().sum()\n",
        "missing_values = missing_values[missing_values > 0]\n",
        "\n",
        "for column in missing_values.index:\n",
        "    if df[column].dtype == 'object':\n",
        "        # Check if the column is empty before calculating mode\n",
        "        if not df[column].isnull().all():\n",
        "            mode_value = df[column].mode()[0]\n",
        "            df[column].fillna(mode_value, inplace=True)\n",
        "    elif df[column].dtype in ['int64', 'float64']:\n",
        "        median_value = df[column].median()\n",
        "        df[column].fillna(median_value, inplace=True)\n",
        "\n",
        "print(\"\\nTotal number of missing values after imputation:\", df.isnull().sum().sum())"
      ],
      "execution_count": null,
      "outputs": [
        {
          "output_type": "stream",
          "name": "stdout",
          "text": [
            "\n",
            "Total number of missing values after imputation: 0\n"
          ]
        }
      ]
    },
    {
      "cell_type": "code",
      "source": [
        "# Task\n",
        "# States with most jobs\n",
        "df['state'] = df['Location'].str.split(',').str[-1].str.strip()\n",
        "state_counts = df['state'].value_counts()\n",
        "print(state_counts.head(10))"
      ],
      "metadata": {
        "colab": {
          "base_uri": "https://localhost:8080/"
        },
        "id": "gxXuLqHZpI70",
        "outputId": "79327e8b-cefe-4835-fb81-49f8e6c96520"
      },
      "execution_count": null,
      "outputs": [
        {
          "output_type": "stream",
          "name": "stdout",
          "text": [
            "state\n",
            "ca    152\n",
            "ma    103\n",
            "ny     72\n",
            "va     41\n",
            "il     40\n",
            "md     35\n",
            "pa     33\n",
            "tx     28\n",
            "wa     21\n",
            "nc     21\n",
            "Name: count, dtype: int64\n"
          ]
        }
      ]
    },
    {
      "cell_type": "code",
      "source": [
        "#Avg min & max salary by state\n",
        "df['Avg_Salary'] = (df['Lower_Salary'] + df['Upper_Salary']) / 2\n",
        "salary_stats = df.groupby('state')['Avg_Salary'].agg(['mean', 'min', 'max'])\n",
        "print(salary_stats)"
      ],
      "metadata": {
        "colab": {
          "base_uri": "https://localhost:8080/"
        },
        "id": "SVReX1oVrbCU",
        "outputId": "a02475ef-518f-47ae-f7cc-66b74a30bc5d"
      },
      "execution_count": null,
      "outputs": [
        {
          "output_type": "stream",
          "name": "stdout",
          "text": [
            "             mean    min    max\n",
            "state                          \n",
            "al      57.937500   39.5   68.0\n",
            "az      85.666667   55.0  124.5\n",
            "ca     123.513158   47.5  232.5\n",
            "co      86.181818   29.5  133.5\n",
            "ct      71.100000   62.5   84.0\n",
            "dc     110.181818   50.0  237.5\n",
            "de      56.500000   56.5   56.5\n",
            "fl      77.625000   37.5  132.5\n",
            "ga      80.666667   79.5   85.0\n",
            "ia      78.900000   43.0  115.5\n",
            "id      56.250000   49.0   63.5\n",
            "il     116.662500   52.5  254.0\n",
            "in      90.300000   51.5  122.5\n",
            "ks      87.000000   87.0   87.0\n",
            "ky      97.000000   84.0  103.5\n",
            "la      57.625000   41.5   70.5\n",
            "ma     107.495146   47.5  172.0\n",
            "md      97.357143   62.0  147.5\n",
            "mi     100.250000   87.5  130.0\n",
            "mn      85.500000   76.0   95.0\n",
            "mo      84.722222   40.5  143.5\n",
            "nc      98.452381   65.5  134.0\n",
            "ne      54.250000   51.5   61.5\n",
            "nj     104.558824   56.5  173.0\n",
            "nm      74.333333   72.0   75.5\n",
            "ny      98.652778   15.5  172.0\n",
            "oh      87.571429   45.5  110.5\n",
            "or      92.125000   73.0   99.5\n",
            "pa      93.863636   42.0  155.0\n",
            "ri     100.000000  100.0  100.0\n",
            "sc      60.500000   60.5   60.5\n",
            "tn      89.269231   27.5  109.0\n",
            "tx      92.678571   44.5  149.5\n",
            "ut      94.150000   47.0  140.5\n",
            "va      95.621951   61.5  147.0\n",
            "wa      93.190476   44.5  184.5\n",
            "wi      73.300000   54.0  120.0\n"
          ]
        }
      ]
    },
    {
      "cell_type": "code",
      "source": [
        "# Average salary in different states\n",
        "Avg_Salary_by_State = df.groupby('state')['Avg_Salary'].mean()\n",
        "print(Avg_Salary_by_State)"
      ],
      "metadata": {
        "colab": {
          "base_uri": "https://localhost:8080/"
        },
        "id": "cu0VuDeesPGx",
        "outputId": "cd7a509b-c33b-4372-c005-319975224faa"
      },
      "execution_count": null,
      "outputs": [
        {
          "output_type": "stream",
          "name": "stdout",
          "text": [
            "state\n",
            "al     57.937500\n",
            "az     85.666667\n",
            "ca    123.513158\n",
            "co     86.181818\n",
            "ct     71.100000\n",
            "dc    110.181818\n",
            "de     56.500000\n",
            "fl     77.625000\n",
            "ga     80.666667\n",
            "ia     78.900000\n",
            "id     56.250000\n",
            "il    116.662500\n",
            "in     90.300000\n",
            "ks     87.000000\n",
            "ky     97.000000\n",
            "la     57.625000\n",
            "ma    107.495146\n",
            "md     97.357143\n",
            "mi    100.250000\n",
            "mn     85.500000\n",
            "mo     84.722222\n",
            "nc     98.452381\n",
            "ne     54.250000\n",
            "nj    104.558824\n",
            "nm     74.333333\n",
            "ny     98.652778\n",
            "oh     87.571429\n",
            "or     92.125000\n",
            "pa     93.863636\n",
            "ri    100.000000\n",
            "sc     60.500000\n",
            "tn     89.269231\n",
            "tx     92.678571\n",
            "ut     94.150000\n",
            "va     95.621951\n",
            "wa     93.190476\n",
            "wi     73.300000\n",
            "Name: Avg_Salary, dtype: float64\n"
          ]
        }
      ]
    },
    {
      "cell_type": "code",
      "source": [
        "# Top 5 industries (data science jobs)\n",
        "data_science_jobs = df[df['Job_Title'].str.contains('data scientist', case=False)]\n",
        "top_industries = data_science_jobs['Industry'].value_counts().head(5)\n",
        "print(top_industries)"
      ],
      "metadata": {
        "colab": {
          "base_uri": "https://localhost:8080/"
        },
        "id": "SX9d6aCCuPkb",
        "outputId": "e0381551-7b6a-4b4a-db9b-456a251b0712"
      },
      "execution_count": null,
      "outputs": [
        {
          "output_type": "stream",
          "name": "stdout",
          "text": [
            "Industry\n",
            "Biotech & Pharmaceuticals                  34\n",
            "Enterprise Software & Network Solutions    25\n",
            "IT Services                                22\n",
            "Computer Hardware & Software               21\n",
            "Insurance Carriers                         20\n",
            "Name: count, dtype: int64\n"
          ]
        }
      ]
    },
    {
      "cell_type": "code",
      "source": [
        "# Companies with maximum openings\n",
        "company_openings = df['Company_Name'].value_counts().head(5)\n",
        "print(company_openings)"
      ],
      "metadata": {
        "colab": {
          "base_uri": "https://localhost:8080/"
        },
        "id": "wCWdu26kum0G",
        "outputId": "a7e1680a-11ee-4767-84b7-ff3eaf3a2d7c"
      },
      "execution_count": null,
      "outputs": [
        {
          "output_type": "stream",
          "name": "stdout",
          "text": [
            "Company_Name\n",
            "MassMutual\\n3.6                        14\n",
            "Takeda Pharmaceuticals\\n3.7            14\n",
            "Reynolds American\\n3.1                 14\n",
            "Software Engineering Institute\\n2.6    11\n",
            "PNNL\\n3.8                              10\n",
            "Name: count, dtype: int64\n"
          ]
        }
      ]
    },
    {
      "cell_type": "code",
      "source": [
        "# Jop titles with most jobs\n",
        "top_titles = df['Job_Title'].value_counts().head(5)\n",
        "print(top_titles)"
      ],
      "metadata": {
        "colab": {
          "base_uri": "https://localhost:8080/"
        },
        "id": "1Xv9CbMTvu3i",
        "outputId": "1a6abe8b-f5c3-467c-cb36-1c96851ad03f"
      },
      "execution_count": null,
      "outputs": [
        {
          "output_type": "stream",
          "name": "stdout",
          "text": [
            "Job_Title\n",
            "Data Scientist           131\n",
            "Data Engineer             53\n",
            "Senior Data Scientist     34\n",
            "Data Analyst              15\n",
            "Senior Data Engineer      14\n",
            "Name: count, dtype: int64\n"
          ]
        }
      ]
    },
    {
      "cell_type": "code",
      "source": [
        "# Salary of top job titles\n",
        "top_titles_salary = df.groupby('Job_Title')['Avg_Salary'].mean()\n",
        "print(top_titles_salary)"
      ],
      "metadata": {
        "colab": {
          "base_uri": "https://localhost:8080/"
        },
        "id": "Eq4AZsg_wgMt",
        "outputId": "60c32a45-98ac-45fc-f01a-c38d52b2b568"
      },
      "execution_count": null,
      "outputs": [
        {
          "output_type": "stream",
          "name": "stdout",
          "text": [
            "Job_Title\n",
            "Ag Data Scientist                                      80.5\n",
            "Analytics - Business Assurance Data Analyst            43.0\n",
            "Analytics Consultant                                   66.5\n",
            "Analytics Manager                                      87.5\n",
            "Analytics Manager - Data Mart                          64.0\n",
            "                                                      ...  \n",
            "Systems Engineer II - Data Analyst                     62.5\n",
            "Technology-Minded, Data Professional Opportunities     70.5\n",
            "VP, Data Science                                      124.5\n",
            "Web Data Analyst                                      106.0\n",
            "sql_ Data Engineer                                     93.0\n",
            "Name: Avg_Salary, Length: 264, dtype: float64\n"
          ]
        }
      ]
    },
    {
      "cell_type": "code",
      "source": [
        "# Skills required by companies\n",
        "skill_columns = ['Python', 'spark', 'aws', 'excel', 'sql_', 'sas', 'keras', 'pytorch', 'scikit', 'tensor', 'hadoop', 'tableau', 'bi', 'flink', 'mongo', 'google_an']\n",
        "\n",
        "def get_skills(row):\n",
        "    skills = [col for col in skill_columns if row[col] == 1]\n",
        "    return ', '.join(skills) if skills else 'No specific skills listed'\n",
        "\n",
        "df['Required_Skills'] = df.apply(get_skills, axis=1)\n",
        "\n",
        "skills_by_company = df.groupby('Company_Name')['Required_Skills'].apply(lambda x: ', '.join(x.unique())).reset_index()\n",
        "print(skills_by_company)"
      ],
      "metadata": {
        "colab": {
          "base_uri": "https://localhost:8080/"
        },
        "id": "IdqOvMhZyFSb",
        "outputId": "58fe377b-a255-485b-bc76-667066eb37d9"
      },
      "execution_count": null,
      "outputs": [
        {
          "output_type": "stream",
          "name": "stdout",
          "text": [
            "                      Company_Name  \\\n",
            "0     1-800-FLOWERS.COM, Inc.\\n2.8   \n",
            "1                    1904labs\\n4.7   \n",
            "2                     23andMe\\n4.0   \n",
            "3                  7Park Data\\n3.8   \n",
            "4                    <intent>\\n4.6   \n",
            "..                             ...   \n",
            "338  e-IT Professionals Corp.\\n3.5   \n",
            "339                     goTRG\\n4.2   \n",
            "340                    h2o.ai\\n4.3   \n",
            "341                    iSeatz\\n3.5   \n",
            "342                 webfx.com\\n4.7   \n",
            "\n",
            "                                       Required_Skills  \n",
            "0                    Python, excel, sql_, sas, tableau  \n",
            "1           Python, spark, sql_, keras, scikit, tensor  \n",
            "2                                           aws, excel  \n",
            "3        Python, spark, keras, pytorch, scikit, tensor  \n",
            "4                                        Python, spark  \n",
            "..                                                 ...  \n",
            "338                                       Python, sql_  \n",
            "339                 Python, spark, excel, sql_, hadoop  \n",
            "340  Python, spark, aws, excel, hadoop, Python, spa...  \n",
            "341                                        excel, sql_  \n",
            "342                                   excel, google_an  \n",
            "\n",
            "[343 rows x 2 columns]\n"
          ]
        }
      ]
    },
    {
      "cell_type": "code",
      "source": [
        "# Relation between eduction & salary\n",
        "education_salary = df.groupby('Degree')['Avg_Salary'].mean()\n",
        "print(education_salary)"
      ],
      "metadata": {
        "colab": {
          "base_uri": "https://localhost:8080/"
        },
        "id": "A0p9FDuczRji",
        "outputId": "7036a885-8212-4ccf-a5c9-6ae4a034525c"
      },
      "execution_count": null,
      "outputs": [
        {
          "output_type": "stream",
          "name": "stdout",
          "text": [
            "Degree\n",
            "M     105.634921\n",
            "P     115.981308\n",
            "na     94.703655\n",
            "Name: Avg_Salary, dtype: float64\n"
          ]
        }
      ]
    },
    {
      "cell_type": "code",
      "source": [
        "df.to_csv('cleaned_data.csv', index=False)"
      ],
      "metadata": {
        "id": "nsID0p0Wzsfy"
      },
      "execution_count": null,
      "outputs": []
    }
  ]
}